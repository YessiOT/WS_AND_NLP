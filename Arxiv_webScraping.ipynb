{
 "cells": [
  {
   "cell_type": "markdown",
   "id": "dbb6cbf7-610b-4e1e-81b1-eb963d54ee39",
   "metadata": {},
   "source": [
    "# Web scraping of article abstracts from new submissions on arXiv"
   ]
  },
  {
   "cell_type": "code",
   "execution_count": 1,
   "id": "8d58d780-1f70-42a0-923f-854e69cd67a8",
   "metadata": {},
   "outputs": [],
   "source": [
    "import requests\n",
    "from bs4 import BeautifulSoup\n",
    "import json\n",
    "import re\n",
    "import pandas as pd"
   ]
  },
  {
   "cell_type": "markdown",
   "id": "9350eda2-4be5-413c-8c9c-8e6f2debed99",
   "metadata": {},
   "source": [
    "### We are gonna choose theoretical high energy physics articles 😃"
   ]
  },
  {
   "cell_type": "code",
   "execution_count": 2,
   "id": "2a2d0263-d294-4040-ab72-c5f7d6624f44",
   "metadata": {},
   "outputs": [],
   "source": [
    "url=\"https://arxiv.org/list/hep-th/new\"  ##New theoretical high energy physics articles\n",
    "response = requests.get(url)"
   ]
  },
  {
   "cell_type": "code",
   "execution_count": 3,
   "id": "a220b27a-6cad-41e3-a7dd-4572e3b0d01f",
   "metadata": {},
   "outputs": [],
   "source": [
    "soup = BeautifulSoup(response.text)\n",
    "articles = soup.find_all(\"div\",attrs={\"class\":\"meta\"})"
   ]
  },
  {
   "cell_type": "code",
   "execution_count": 22,
   "id": "082d2ada-addb-4464-9ba8-fd102019e73e",
   "metadata": {},
   "outputs": [],
   "source": [
    "##Collecting the info in a dictionary\n",
    "articleInfo = []\n",
    "\n",
    "for article in articles:\n",
    "   \n",
    "    title= article.find(\"div\",attrs={\"class\":\"list-title mathjax\"}).text.replace(\"Title:\\n\",\"\").strip() #title\n",
    "    abstract = article.find(\"p\").text.replace(\"\\n\",\"\").strip() #abstract\n",
    "    authors=[article.find('div',attrs={\"class\":\"list-authors\"}).text] #authors list\n",
    "    subjects=re.sub(r\"(Subjects:|\\n)\",\"\",article.find('div',attrs={\"class\":\"list-subjects\"}).text) #article subjects\n",
    "\n",
    "    arxivArticle= {\n",
    "        \"Title\": title,\n",
    "        \"Abstract\": abstract,\n",
    "        \"Authors\": authors,\n",
    "        \"Subjects\": subjects\n",
    "    }\n",
    "\n",
    "    articleInfo.append(arxivArticle)"
   ]
  },
  {
   "cell_type": "code",
   "execution_count": 23,
   "id": "caa11f8f-3ae3-4d40-a7e9-759520983eb9",
   "metadata": {},
   "outputs": [],
   "source": [
    "final_info=pd.DataFrame(articleInfo)"
   ]
  },
  {
   "cell_type": "code",
   "execution_count": 24,
   "id": "02c040f9-a3ab-4446-8700-3b9997441faf",
   "metadata": {},
   "outputs": [
    {
     "name": "stdout",
     "output_type": "stream",
     "text": [
      "<class 'pandas.core.frame.DataFrame'>\n",
      "RangeIndex: 84 entries, 0 to 83\n",
      "Data columns (total 4 columns):\n",
      " #   Column    Non-Null Count  Dtype \n",
      "---  ------    --------------  ----- \n",
      " 0   Title     84 non-null     object\n",
      " 1   Abstract  84 non-null     object\n",
      " 2   Authors   84 non-null     object\n",
      " 3   Subjects  84 non-null     object\n",
      "dtypes: object(4)\n",
      "memory usage: 2.8+ KB\n"
     ]
    }
   ],
   "source": [
    "final_info.info()"
   ]
  },
  {
   "cell_type": "code",
   "execution_count": 25,
   "id": "6fab5385-cabb-42b8-8747-ff07b853764f",
   "metadata": {},
   "outputs": [
    {
     "data": {
      "text/html": [
       "<div>\n",
       "<style scoped>\n",
       "    .dataframe tbody tr th:only-of-type {\n",
       "        vertical-align: middle;\n",
       "    }\n",
       "\n",
       "    .dataframe tbody tr th {\n",
       "        vertical-align: top;\n",
       "    }\n",
       "\n",
       "    .dataframe thead th {\n",
       "        text-align: right;\n",
       "    }\n",
       "</style>\n",
       "<table border=\"1\" class=\"dataframe\">\n",
       "  <thead>\n",
       "    <tr style=\"text-align: right;\">\n",
       "      <th></th>\n",
       "      <th>Title</th>\n",
       "      <th>Abstract</th>\n",
       "      <th>Authors</th>\n",
       "      <th>Subjects</th>\n",
       "    </tr>\n",
       "  </thead>\n",
       "  <tbody>\n",
       "    <tr>\n",
       "      <th>0</th>\n",
       "      <td>Algebras, Entanglement Islands, and Observers</td>\n",
       "      <td>Some recent work has postulated the existence ...</td>\n",
       "      <td>[Hao Geng, Yikun Jiang, Jiuci Xu]</td>\n",
       "      <td>High Energy Physics - Theory (hep-th); General...</td>\n",
       "    </tr>\n",
       "    <tr>\n",
       "      <th>1</th>\n",
       "      <td>Generalized False Vacuum Skyrme model</td>\n",
       "      <td>We propose a generalization of the False Vacuu...</td>\n",
       "      <td>[L. A. Ferreira, L. R. Livramento]</td>\n",
       "      <td>High Energy Physics - Theory (hep-th); Mathema...</td>\n",
       "    </tr>\n",
       "    <tr>\n",
       "      <th>2</th>\n",
       "      <td>Compton amplitude and Contact term(s) in the S...</td>\n",
       "      <td>In gauge theories, contact terms play an impor...</td>\n",
       "      <td>[Aakash Kumar, Arnab Rudra, Rahul Shaw]</td>\n",
       "      <td>High Energy Physics - Theory (hep-th); High En...</td>\n",
       "    </tr>\n",
       "    <tr>\n",
       "      <th>3</th>\n",
       "      <td>Can Non-Relativistic Strings Propagate Without...</td>\n",
       "      <td>We present a minimal and dynamically consisten...</td>\n",
       "      <td>[Partha Nandi, Sk. Moinuddin, Abdus Sattar]</td>\n",
       "      <td>High Energy Physics - Theory (hep-th); General...</td>\n",
       "    </tr>\n",
       "    <tr>\n",
       "      <th>4</th>\n",
       "      <td>On the Renormalization Group flow of distribut...</td>\n",
       "      <td>Renormalization Group flows relate the values ...</td>\n",
       "      <td>[Astrid Eichhorn, Aaron Held]</td>\n",
       "      <td>High Energy Physics - Theory (hep-th); High En...</td>\n",
       "    </tr>\n",
       "  </tbody>\n",
       "</table>\n",
       "</div>"
      ],
      "text/plain": [
       "                                               Title  \\\n",
       "0      Algebras, Entanglement Islands, and Observers   \n",
       "1              Generalized False Vacuum Skyrme model   \n",
       "2  Compton amplitude and Contact term(s) in the S...   \n",
       "3  Can Non-Relativistic Strings Propagate Without...   \n",
       "4  On the Renormalization Group flow of distribut...   \n",
       "\n",
       "                                            Abstract  \\\n",
       "0  Some recent work has postulated the existence ...   \n",
       "1  We propose a generalization of the False Vacuu...   \n",
       "2  In gauge theories, contact terms play an impor...   \n",
       "3  We present a minimal and dynamically consisten...   \n",
       "4  Renormalization Group flows relate the values ...   \n",
       "\n",
       "                                       Authors  \\\n",
       "0            [Hao Geng, Yikun Jiang, Jiuci Xu]   \n",
       "1           [L. A. Ferreira, L. R. Livramento]   \n",
       "2      [Aakash Kumar, Arnab Rudra, Rahul Shaw]   \n",
       "3  [Partha Nandi, Sk. Moinuddin, Abdus Sattar]   \n",
       "4                [Astrid Eichhorn, Aaron Held]   \n",
       "\n",
       "                                            Subjects  \n",
       "0  High Energy Physics - Theory (hep-th); General...  \n",
       "1  High Energy Physics - Theory (hep-th); Mathema...  \n",
       "2  High Energy Physics - Theory (hep-th); High En...  \n",
       "3  High Energy Physics - Theory (hep-th); General...  \n",
       "4  High Energy Physics - Theory (hep-th); High En...  "
      ]
     },
     "execution_count": 25,
     "metadata": {},
     "output_type": "execute_result"
    }
   ],
   "source": [
    "final_info.head()"
   ]
  },
  {
   "cell_type": "markdown",
   "id": "477cf9ba-38db-49a0-b6ec-afbeb942cfa9",
   "metadata": {},
   "source": [
    "### With a search query"
   ]
  },
  {
   "cell_type": "code",
   "execution_count": 10,
   "id": "d8ce3c14-49ac-40f3-8b5d-6343fcab76a5",
   "metadata": {},
   "outputs": [
    {
     "name": "stdin",
     "output_type": "stream",
     "text": [
      "What do you want to search for on Arxiv.org? use + as separator: \n",
      " dark+matter\n"
     ]
    }
   ],
   "source": [
    "query = input(\"What do you want to search for on Arxiv.org? use + as separator: \\n\")\n",
    "query_url=f\"https://arxiv.org/search/?query={query}&searchtype=all&abstracts=show&order=-announced_date_first&size=50\""
   ]
  },
  {
   "cell_type": "code",
   "execution_count": 18,
   "id": "1fdae4bf-7cf0-4aea-b2f4-dfaacbc98198",
   "metadata": {},
   "outputs": [],
   "source": [
    "response_query = requests.get(query_url)\n",
    "soup_query = BeautifulSoup(response_query.text)\n",
    "articles_50 = soup_query.find_all(\"li\",attrs={\"class\":\"arxiv-result\"})"
   ]
  },
  {
   "cell_type": "code",
   "execution_count": 20,
   "id": "89bc4f36-ab8c-48b1-bc91-fb94a0957835",
   "metadata": {},
   "outputs": [],
   "source": [
    "searchInfo=[]\n",
    "\n",
    "for article in articles_50:\n",
    "    Title = re.sub(r\"\\n\",\"\",article.find(\"p\",attrs={\"class\":\"title\"}).text).strip()\n",
    "    abstract = article.find(\"p\",attrs={\"class\":\"abstract\"})\n",
    "    FullAbstract = re.sub(r\"(\\n|△ Less)\",\"\",abstract.find(\"span\",{\"class\":\"abstract-full\"}).text).strip()\n",
    "    pdfURL = article.div.p.span.a['href'],\n",
    "    authors = article.find(\"p\",{\"class\":\"authors\"}).text.split()[1:]\n",
    "\n",
    "\n",
    "    arxivArticle_50= {\n",
    "        \"Topic\": Title,\n",
    "        \"Abstract\": FullAbstract,\n",
    "        \"PDF\": pdfURL,\n",
    "        \"Authors\": authors\n",
    "\n",
    "    }\n",
    "\n",
    "\n",
    "    searchInfo.append(arxivArticle_50)"
   ]
  },
  {
   "cell_type": "code",
   "execution_count": 26,
   "id": "7d422f24-3209-452b-805b-90e6a83df4b3",
   "metadata": {},
   "outputs": [],
   "source": [
    "Query_result_df=pd.DataFrame(searchInfo)"
   ]
  },
  {
   "cell_type": "code",
   "execution_count": 27,
   "id": "83bbfa59-1df2-47a7-874a-4ac84d1dc17f",
   "metadata": {},
   "outputs": [
    {
     "name": "stdout",
     "output_type": "stream",
     "text": [
      "<class 'pandas.core.frame.DataFrame'>\n",
      "RangeIndex: 50 entries, 0 to 49\n",
      "Data columns (total 4 columns):\n",
      " #   Column    Non-Null Count  Dtype \n",
      "---  ------    --------------  ----- \n",
      " 0   Topic     50 non-null     object\n",
      " 1   Abstract  50 non-null     object\n",
      " 2   PDF       50 non-null     object\n",
      " 3   Authors   50 non-null     object\n",
      "dtypes: object(4)\n",
      "memory usage: 1.7+ KB\n"
     ]
    }
   ],
   "source": [
    "Query_result_df.info()"
   ]
  },
  {
   "cell_type": "code",
   "execution_count": 28,
   "id": "4e20a079-9b1f-4f7b-adf2-011fa9ac1326",
   "metadata": {},
   "outputs": [
    {
     "data": {
      "text/html": [
       "<div>\n",
       "<style scoped>\n",
       "    .dataframe tbody tr th:only-of-type {\n",
       "        vertical-align: middle;\n",
       "    }\n",
       "\n",
       "    .dataframe tbody tr th {\n",
       "        vertical-align: top;\n",
       "    }\n",
       "\n",
       "    .dataframe thead th {\n",
       "        text-align: right;\n",
       "    }\n",
       "</style>\n",
       "<table border=\"1\" class=\"dataframe\">\n",
       "  <thead>\n",
       "    <tr style=\"text-align: right;\">\n",
       "      <th></th>\n",
       "      <th>Topic</th>\n",
       "      <th>Abstract</th>\n",
       "      <th>PDF</th>\n",
       "      <th>Authors</th>\n",
       "    </tr>\n",
       "  </thead>\n",
       "  <tbody>\n",
       "    <tr>\n",
       "      <th>0</th>\n",
       "      <td>Cosmological Remapping for Efficient Generatio...</td>\n",
       "      <td>We present a novel application of cosmological...</td>\n",
       "      <td>(https://arxiv.org/pdf/2506.14588,)</td>\n",
       "      <td>[Rahima, Mokeddem,, Bruno, B., Bizarria,, Jiaj...</td>\n",
       "    </tr>\n",
       "    <tr>\n",
       "      <th>1</th>\n",
       "      <td>The power of SKA to Constrain cosmological gra...</td>\n",
       "      <td>The inspirals of supermaissive black hole bina...</td>\n",
       "      <td>(https://arxiv.org/pdf/2506.14366,)</td>\n",
       "      <td>[Chengjie, Fu,, Jing, Liu]</td>\n",
       "    </tr>\n",
       "    <tr>\n",
       "      <th>2</th>\n",
       "      <td>Enhancing photon-axion conversion probability ...</td>\n",
       "      <td>In particle physics, axions and axion-like par...</td>\n",
       "      <td>(https://arxiv.org/pdf/2506.14354,)</td>\n",
       "      <td>[Taiki, Ikeda,, Sugumi, Kanno,, Jiro, Soda]</td>\n",
       "    </tr>\n",
       "    <tr>\n",
       "      <th>3</th>\n",
       "      <td>On Geometrization of Classical Fields II (MES:...</td>\n",
       "      <td>The study of arXiv:2502.01174 geometrization o...</td>\n",
       "      <td>(https://arxiv.org/pdf/2506.14313,)</td>\n",
       "      <td>[V., I., Noskov]</td>\n",
       "    </tr>\n",
       "    <tr>\n",
       "      <th>4</th>\n",
       "      <td>The dynamics of background evolution and struc...</td>\n",
       "      <td>The Baryon Acoustic Oscillation (BAO) feature,...</td>\n",
       "      <td>(https://arxiv.org/pdf/2506.14275,)</td>\n",
       "      <td>[Pankaj, Chavan,, Tapomoy, Guha, Sarkar,, Anja...</td>\n",
       "    </tr>\n",
       "  </tbody>\n",
       "</table>\n",
       "</div>"
      ],
      "text/plain": [
       "                                               Topic  \\\n",
       "0  Cosmological Remapping for Efficient Generatio...   \n",
       "1  The power of SKA to Constrain cosmological gra...   \n",
       "2  Enhancing photon-axion conversion probability ...   \n",
       "3  On Geometrization of Classical Fields II (MES:...   \n",
       "4  The dynamics of background evolution and struc...   \n",
       "\n",
       "                                            Abstract  \\\n",
       "0  We present a novel application of cosmological...   \n",
       "1  The inspirals of supermaissive black hole bina...   \n",
       "2  In particle physics, axions and axion-like par...   \n",
       "3  The study of arXiv:2502.01174 geometrization o...   \n",
       "4  The Baryon Acoustic Oscillation (BAO) feature,...   \n",
       "\n",
       "                                   PDF  \\\n",
       "0  (https://arxiv.org/pdf/2506.14588,)   \n",
       "1  (https://arxiv.org/pdf/2506.14366,)   \n",
       "2  (https://arxiv.org/pdf/2506.14354,)   \n",
       "3  (https://arxiv.org/pdf/2506.14313,)   \n",
       "4  (https://arxiv.org/pdf/2506.14275,)   \n",
       "\n",
       "                                             Authors  \n",
       "0  [Rahima, Mokeddem,, Bruno, B., Bizarria,, Jiaj...  \n",
       "1                         [Chengjie, Fu,, Jing, Liu]  \n",
       "2        [Taiki, Ikeda,, Sugumi, Kanno,, Jiro, Soda]  \n",
       "3                                   [V., I., Noskov]  \n",
       "4  [Pankaj, Chavan,, Tapomoy, Guha, Sarkar,, Anja...  "
      ]
     },
     "execution_count": 28,
     "metadata": {},
     "output_type": "execute_result"
    }
   ],
   "source": [
    "Query_result_df.head()"
   ]
  },
  {
   "cell_type": "code",
   "execution_count": null,
   "id": "164d55ff-e79b-40fb-8277-da259891bda4",
   "metadata": {},
   "outputs": [],
   "source": []
  }
 ],
 "metadata": {
  "kernelspec": {
   "display_name": "Python 3 (ipykernel)",
   "language": "python",
   "name": "python3"
  },
  "language_info": {
   "codemirror_mode": {
    "name": "ipython",
    "version": 3
   },
   "file_extension": ".py",
   "mimetype": "text/x-python",
   "name": "python",
   "nbconvert_exporter": "python",
   "pygments_lexer": "ipython3",
   "version": "3.11.13"
  }
 },
 "nbformat": 4,
 "nbformat_minor": 5
}
